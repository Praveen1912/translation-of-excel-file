{
  "nbformat": 4,
  "nbformat_minor": 0,
  "metadata": {
    "colab": {
      "name": "translation of excel file",
      "provenance": [],
      "collapsed_sections": [],
      "authorship_tag": "ABX9TyNt0zg2NNpPiGwbCtwM3tov",
      "include_colab_link": true
    },
    "kernelspec": {
      "name": "python3",
      "display_name": "Python 3"
    },
    "language_info": {
      "name": "python"
    }
  },
  "cells": [
    {
      "cell_type": "markdown",
      "metadata": {
        "id": "view-in-github",
        "colab_type": "text"
      },
      "source": [
        "<a href=\"https://colab.research.google.com/github/Praveen1912/translation-of-excel-file/blob/main/translation_of_excel_file.ipynb\" target=\"_parent\"><img src=\"https://colab.research.google.com/assets/colab-badge.svg\" alt=\"Open In Colab\"/></a>"
      ]
    },
    {
      "cell_type": "code",
      "execution_count": null,
      "metadata": {
        "id": "kGDPW0AxjBTp"
      },
      "outputs": [],
      "source": [
        "#! pip install googletrans==3.1.0a0"
      ]
    },
    {
      "cell_type": "code",
      "source": [
        "import openpyxl as op\n",
        "from googletrans import Translator"
      ],
      "metadata": {
        "id": "ZwiGFotJjC6v"
      },
      "execution_count": null,
      "outputs": []
    },
    {
      "cell_type": "code",
      "source": [
        "path='test.xlsx'     #enter path of file here\n",
        "des='hi'      #enter destination lang code here [english(en), hindi(hi), russian(ru)]\n",
        "desp='final.xlsx'   #enter destination file path\n",
        "sheetno= 0      #enter sheet number"
      ],
      "metadata": {
        "id": "l8p1OhP_jFpP"
      },
      "execution_count": null,
      "outputs": []
    },
    {
      "cell_type": "code",
      "source": [
        "initialFile = op.load_workbook(path)"
      ],
      "metadata": {
        "id": "A9o8mi9PjH2n"
      },
      "execution_count": null,
      "outputs": []
    },
    {
      "cell_type": "code",
      "source": [
        "sheetToWork=initialFile[initialFile.sheetnames[sheetno]]"
      ],
      "metadata": {
        "id": "06vHI23CjJ64"
      },
      "execution_count": null,
      "outputs": []
    },
    {
      "cell_type": "code",
      "source": [
        "row=sheetToWork.max_row\n",
        "col=sheetToWork.max_column"
      ],
      "metadata": {
        "id": "pjow4tZ1jQTv"
      },
      "execution_count": null,
      "outputs": []
    },
    {
      "cell_type": "code",
      "source": [
        "translator=Translator()\n",
        "for i in range(1,col+1):\n",
        "    for j in range(1,row+1):\n",
        "        sheetToWork.cell(j,i,translator.translate(sheetToWork.cell(j,i).value,dest=des).text)"
      ],
      "metadata": {
        "id": "6JUaHu49jS-P"
      },
      "execution_count": null,
      "outputs": []
    },
    {
      "cell_type": "code",
      "source": [
        "initialFile.save(desp)"
      ],
      "metadata": {
        "id": "DWuUAAsAjYUn"
      },
      "execution_count": null,
      "outputs": []
    }
  ]
}